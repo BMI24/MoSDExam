{
 "cells": [
  {
   "cell_type": "code",
   "execution_count": 1,
   "metadata": {},
   "outputs": [],
   "source": [
    "import requests\n",
    "import pyodata"
   ]
  },
  {
   "cell_type": "code",
   "execution_count": 19,
   "metadata": {},
   "outputs": [],
   "source": [
    "SERVICE_URL = 'https://data.cityofnewyork.us/OData.svc'\n",
    "\n",
    "namespaces = {\n",
    "    'test': 'erm2-nwe9'\n",
    "}\n",
    "\n",
    "config = pyodata.v2.model.Config(xml_namespaces=namespaces)\n",
    "\n",
    "client = pyodata.Client(SERVICE_URL, requests.Session(), config=config)"
   ]
  },
  {
   "cell_type": "code",
   "execution_count": 23,
   "metadata": {},
   "outputs": [],
   "source": [
    "client.entity_sets._entity_sets['erm2-nwe9'] = pyodata.v2.service.EntitySetProxy(client.entity_sets._service, )"
   ]
  },
  {
   "cell_type": "code",
   "execution_count": 25,
   "metadata": {},
   "outputs": [
    {
     "name": "stdout",
     "output_type": "stream",
     "text": [
      "<pyodata.v2.service.EntitySetProxy object at 0x000001BE731D50C0>\n"
     ]
    }
   ],
   "source": [
    "try:\n",
    "    client.entity_sets.__getattr__('erm2-nwe9').get_entities().count().execute()\n",
    "except pyodata.exceptions.HttpError as err:\n",
    "    x = err.response.request"
   ]
  },
  {
   "cell_type": "code",
   "execution_count": 17,
   "metadata": {},
   "outputs": [
    {
     "data": {
      "text/plain": [
       "'https://data.cityofnewyork.us/OData.svc/311%20Service%20Requests%20from%202010%20to%20Present/$count'"
      ]
     },
     "execution_count": 17,
     "metadata": {},
     "output_type": "execute_result"
    }
   ],
   "source": [
    "str(x.url)"
   ]
  }
 ],
 "metadata": {
  "kernelspec": {
   "display_name": "Python 3.10.5 64-bit (windows store)",
   "language": "python",
   "name": "python3"
  },
  "language_info": {
   "codemirror_mode": {
    "name": "ipython",
    "version": 3
   },
   "file_extension": ".py",
   "mimetype": "text/x-python",
   "name": "python",
   "nbconvert_exporter": "python",
   "pygments_lexer": "ipython3",
   "version": "3.10.5"
  },
  "orig_nbformat": 4,
  "vscode": {
   "interpreter": {
    "hash": "b23d7ec566f000ff100a23fa4db2c398687299d108a511c1c5779d4053cd2b6e"
   }
  }
 },
 "nbformat": 4,
 "nbformat_minor": 2
}
